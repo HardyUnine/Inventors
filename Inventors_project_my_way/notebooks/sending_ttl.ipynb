{
 "cells": [
  {
   "cell_type": "code",
   "execution_count": null,
   "id": "bee00d35",
   "metadata": {},
   "outputs": [
    {
     "name": "stdout",
     "output_type": "stream",
     "text": [
      "Status: 400\n",
      "\n"
     ]
    }
   ],
   "source": [
    "### Chatgpt\n",
    "import requests\n",
    "\n",
    "# 1. Modifier ces variables selon ton instance\n",
    "repo = \"Inventors\"  # 🔁 nom exact du repository que tu as créé\n",
    "username = \"admin\"         # 🔁 ou ton identifiant\n",
    "password = \"lufPfX24ZSD08XwvAeQZni\"\n",
    "host = \"https://ag1fel0tr8v5dgez.allegrograph.cloud/repositories/inventors/\"  # 🔁 adapter au nom de ton serveur\n",
    "\n",
    "# 2. Endpoint pour injecter les triplets RDF\n",
    "endpoint = f\"{host}/repositories/{repo}/statements\"\n",
    "\n",
    "# 3. Lire ton fichier TTL\n",
    "with open(\"../data/inventors_graph.ttl\", \"rb\") as f:\n",
    "    rdf_data = f.read()\n",
    "\n",
    "# 4. Envoi via POST\n",
    "response = requests.post(\n",
    "    endpoint,\n",
    "    headers={\"Content-Type\": \"text/turtle\"},\n",
    "    data=rdf_data,\n",
    "    auth=(username, password)\n",
    ")\n",
    "\n",
    "# 5. Résultat\n",
    "print(f\"Status: {response.status_code}\")\n",
    "print(response.text)\n"
   ]
  }
 ],
 "metadata": {
  "kernelspec": {
   "display_name": "Python 3",
   "language": "python",
   "name": "python3"
  },
  "language_info": {
   "codemirror_mode": {
    "name": "ipython",
    "version": 3
   },
   "file_extension": ".py",
   "mimetype": "text/x-python",
   "name": "python",
   "nbconvert_exporter": "python",
   "pygments_lexer": "ipython3",
   "version": "3.13.3"
  }
 },
 "nbformat": 4,
 "nbformat_minor": 5
}
