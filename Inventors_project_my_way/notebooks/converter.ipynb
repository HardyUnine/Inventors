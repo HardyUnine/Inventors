{
 "cells": [
  {
   "cell_type": "code",
   "execution_count": null,
   "id": "1c98fd0d",
   "metadata": {},
   "outputs": [
    {
     "name": "stdout",
     "output_type": "stream",
     "text": [
      "----- Aperçu du RDF -----\n",
      "@prefix wdt: <http://www.wikidata.org/prop/direct/> .\n",
      "@prefix wd: <http://www.wikidata.org/entity/> .\n",
      "\n",
      "<http://www.wikidata.org/entity/Q80> wdt:P800 <http://www.wikidata.org/entity/Q11288> .\n",
      "<http://www.wikidata.org/entity/Q80> wdt:P800 <http://www.wikidata.org/entity/Q8811> .\n",
      "<http://www.wikidata.o\n",
      "-------------------------\n",
      "Status: 200\n",
      "1089\n"
     ]
    }
   ],
   "source": [
    "### Chatgpt\n",
    "import requests\n",
    "\n",
    "# Configuration\n",
    "repo = \"inventors\"  # nom exact du repository (sensible à la casse)\n",
    "username = \"admin\"  # ou ton identifiant perso si différent\n",
    "password = \"lufPfX24ZSD08XwvAeQZni\"  # 🔁 remplace ici par ton vrai mot de passe admin\n",
    "host = \"https://ag1fel0tr8v5dgez.allegrograph.cloud\"\n",
    "\n",
    "# Endpoint RDF\n",
    "endpoint = f\"{host}/repositories/{repo}/statements\"\n",
    "\n",
    "# Lire le fichier TTL\n",
    "with open(\"../data/inventors_graph.ttl\", \"rb\") as f:\n",
    "    rdf_data = f.read()\n",
    "\n",
    "# Affichage de vérification\n",
    "print(\"----- Aperçu du RDF -----\")\n",
    "print(rdf_data.decode('utf-8')[:300])\n",
    "print(\"-------------------------\")\n",
    "\n",
    "# Envoi à AllegroGraph\n",
    "response = requests.post(\n",
    "    endpoint,\n",
    "    headers={\"Content-Type\": \"text/turtle\"},\n",
    "    data=rdf_data,\n",
    "    auth=(username, password)\n",
    ")\n",
    "\n",
    "# Résultat\n",
    "print(f\"Status: {response.status_code}\")\n",
    "print(response.text)\n"
   ]
  }
 ],
 "metadata": {
  "kernelspec": {
   "display_name": "Python 3",
   "language": "python",
   "name": "python3"
  },
  "language_info": {
   "codemirror_mode": {
    "name": "ipython",
    "version": 3
   },
   "file_extension": ".py",
   "mimetype": "text/x-python",
   "name": "python",
   "nbconvert_exporter": "python",
   "pygments_lexer": "ipython3",
   "version": "3.13.3"
  }
 },
 "nbformat": 4,
 "nbformat_minor": 5
}
