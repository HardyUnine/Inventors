{
 "cells": [
  {
   "cell_type": "code",
   "execution_count": 3,
   "id": "1c98fd0d",
   "metadata": {},
   "outputs": [
    {
     "name": "stdout",
     "output_type": "stream",
     "text": [
      "✅ Fichier Turtle généré : data/inventors_graph.ttl\n"
     ]
    }
   ],
   "source": [
    "import pandas as pd\n",
    "\n",
    "# 1. Charger le CSV\n",
    "df = pd.read_csv(\"../data/inventors_inventions.csv\")\n",
    "\n",
    "# 2. Préfixes Turtle\n",
    "prefixes = \"\"\"@prefix wdt: <http://www.wikidata.org/prop/direct/> .\n",
    "@prefix wd:  <http://www.wikidata.org/entity/> .\n",
    "\n",
    "\"\"\"\n",
    "\n",
    "# 3. Construire les triplets RDF\n",
    "triplets = []\n",
    "for _, row in df.iterrows():\n",
    "    inventor  = row[\"inventor\"]    # ex: \"http://www.wikidata.org/entity/Q80\"\n",
    "    invention = row[\"invention\"]   # ex: \"http://www.wikidata.org/entity/Q11288\"\n",
    "    triplets.append(f\"<{inventor}> wdt:P800 <{invention}> .\")\n",
    "\n",
    "# 4. Assembler le contenu TTL\n",
    "ttl_content = prefixes + \"\\n\".join(triplets)\n",
    "\n",
    "# 5. Sauvegarder dans un fichier Turtle\n",
    "with open(\"../data/inventors_graph.ttl\", \"w\", encoding=\"utf-8\") as f:\n",
    "    f.write(ttl_content)\n",
    "\n",
    "print(\"✅ Fichier Turtle généré : data/inventors_graph.ttl\")\n"
   ]
  }
 ],
 "metadata": {
  "kernelspec": {
   "display_name": "Python 3",
   "language": "python",
   "name": "python3"
  },
  "language_info": {
   "codemirror_mode": {
    "name": "ipython",
    "version": 3
   },
   "file_extension": ".py",
   "mimetype": "text/x-python",
   "name": "python",
   "nbconvert_exporter": "python",
   "pygments_lexer": "ipython3",
   "version": "3.13.3"
  }
 },
 "nbformat": 4,
 "nbformat_minor": 5
}
