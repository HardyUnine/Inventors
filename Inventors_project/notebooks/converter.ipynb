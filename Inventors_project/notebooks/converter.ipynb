{
 "cells": [
  {
   "cell_type": "code",
   "execution_count": 3,
   "id": "1c98fd0d",
   "metadata": {},
   "outputs": [
    {
     "name": "stdout",
     "output_type": "stream",
     "text": [
      "✅ Fichier TTL généré : data/inventors_graph.ttl\n"
     ]
    }
   ],
   "source": [
    "import pandas as pd\n",
    "\n",
    "# Charger ton CSV contenant inventeurs et inventions\n",
    "df = pd.read_csv(\"../data/inventors_inventions.csv\")\n",
    "\n",
    "# Préfixes RDF (standard)\n",
    "prefixes = \"\"\"@prefix wdt: <http://www.wikidata.org/prop/direct/> .\n",
    "@prefix wd: <http://www.wikidata.org/entity/> .\n",
    "\n",
    "\"\"\"\n",
    "\n",
    "# Créer les triplets RDF pour chaque ligne\n",
    "triplets = []\n",
    "for _, row in df.iterrows():\n",
    "    inventor = row[\"inventor\"]\n",
    "    invention = row[\"invention\"]\n",
    "    triplets.append(f\"<{inventor}> wdt:P800 <{invention}> .\")\n",
    "\n",
    "# Assembler tout le fichier TTL\n",
    "ttl_content = prefixes + \"\\n\".join(triplets)\n",
    "\n",
    "# Sauvegarder le fichier TTL\n",
    "with open(\"../data/inventors_graph.ttl\", \"w\", encoding=\"utf-8\") as f:\n",
    "    f.write(ttl_content)\n",
    "\n",
    "print(\"✅ Fichier TTL généré : data/inventors_graph.ttl\")\n"
   ]
  }
 ],
 "metadata": {
  "kernelspec": {
   "display_name": "Python 3",
   "language": "python",
   "name": "python3"
  },
  "language_info": {
   "codemirror_mode": {
    "name": "ipython",
    "version": 3
   },
   "file_extension": ".py",
   "mimetype": "text/x-python",
   "name": "python",
   "nbconvert_exporter": "python",
   "pygments_lexer": "ipython3",
   "version": "3.13.3"
  }
 },
 "nbformat": 4,
 "nbformat_minor": 5
}
